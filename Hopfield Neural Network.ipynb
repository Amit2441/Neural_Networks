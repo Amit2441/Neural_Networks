{
 "cells": [
  {
   "cell_type": "code",
   "execution_count": 1,
   "metadata": {},
   "outputs": [],
   "source": [
    "import numpy as np"
   ]
  },
  {
   "cell_type": "code",
   "execution_count": 2,
   "metadata": {},
   "outputs": [],
   "source": [
    "X = np.array([[1,1,1,0,1,1,1,0,1,1,1,0,0,1,1,1,0,1,1,1,0]])\n",
    "X_test = np.array([[1,0,1,0,1,0,0,0,1,0,1,0,0,1,1,0,0,0,1,0,0]])"
   ]
  },
  {
   "cell_type": "code",
   "execution_count": 3,
   "metadata": {},
   "outputs": [],
   "source": [
    "def activation(x, theta = 0):\n",
    "    if x>theta:\n",
    "        return 1\n",
    "    elif x<=theta:\n",
    "        return 0"
   ]
  },
  {
   "cell_type": "code",
   "execution_count": 4,
   "metadata": {},
   "outputs": [],
   "source": [
    "def hopfield_train(X_train):\n",
    "    \n",
    "    X = X_train\n",
    "    w = X.T*X\n",
    "    np.fill_diagonal(w, 0)\n",
    "    X_bin = np.where(X >0, 1, 0)\n",
    "    return w"
   ]
  },
  {
   "cell_type": "code",
   "execution_count": 5,
   "metadata": {},
   "outputs": [],
   "source": [
    "def hopfield_test(X_test,w,check_same = 100):\n",
    "    \n",
    "    y=X_test.copy()\n",
    "    Flag = False\n",
    "    same = 0\n",
    "    epochs = 0\n",
    "    prev_y = np.zeros_like(y)\n",
    "\n",
    "    while True:\n",
    "        i = np.random.choice(range(len(y[0])))\n",
    "        y[0,i] = X_test[0,i] + np.dot(y, w[:,i])\n",
    "        y[0,i] = activation(y[0,i])\n",
    "        print(\"Epoch - \",epochs ,\"Place - \",i,\" Result :\", y, \"Same :\", same)\n",
    "        Flag = np.array_equal(y,prev_y)\n",
    "        prev_y = y.copy()\n",
    "        epochs = epochs +1\n",
    "        if Flag == True:\n",
    "            same += 1\n",
    "            if same >= check_same:\n",
    "                print('-----------------Execution Finished-----------')\n",
    "                return y\n",
    "                break\n",
    "        else:\n",
    "            same = 0\n"
   ]
  },
  {
   "cell_type": "code",
   "execution_count": 6,
   "metadata": {},
   "outputs": [],
   "source": [
    "weights = hopfield_train(X)"
   ]
  },
  {
   "cell_type": "code",
   "execution_count": 7,
   "metadata": {},
   "outputs": [
    {
     "name": "stdout",
     "output_type": "stream",
     "text": [
      "Epoch -  0 Place -  5  Result : [[1 0 1 0 1 1 0 0 1 0 1 0 0 1 1 0 0 0 1 0 0]] Same : 0\n",
      "Epoch -  1 Place -  4  Result : [[1 0 1 0 1 1 0 0 1 0 1 0 0 1 1 0 0 0 1 0 0]] Same : 0\n",
      "Epoch -  2 Place -  8  Result : [[1 0 1 0 1 1 0 0 1 0 1 0 0 1 1 0 0 0 1 0 0]] Same : 1\n",
      "Epoch -  3 Place -  9  Result : [[1 0 1 0 1 1 0 0 1 1 1 0 0 1 1 0 0 0 1 0 0]] Same : 2\n",
      "Epoch -  4 Place -  3  Result : [[1 0 1 0 1 1 0 0 1 1 1 0 0 1 1 0 0 0 1 0 0]] Same : 0\n",
      "Epoch -  5 Place -  15  Result : [[1 0 1 0 1 1 0 0 1 1 1 0 0 1 1 1 0 0 1 0 0]] Same : 1\n",
      "Epoch -  6 Place -  1  Result : [[1 1 1 0 1 1 0 0 1 1 1 0 0 1 1 1 0 0 1 0 0]] Same : 0\n",
      "Epoch -  7 Place -  16  Result : [[1 1 1 0 1 1 0 0 1 1 1 0 0 1 1 1 0 0 1 0 0]] Same : 0\n",
      "Epoch -  8 Place -  3  Result : [[1 1 1 0 1 1 0 0 1 1 1 0 0 1 1 1 0 0 1 0 0]] Same : 1\n",
      "Epoch -  9 Place -  4  Result : [[1 1 1 0 1 1 0 0 1 1 1 0 0 1 1 1 0 0 1 0 0]] Same : 2\n",
      "Epoch -  10 Place -  19  Result : [[1 1 1 0 1 1 0 0 1 1 1 0 0 1 1 1 0 0 1 1 0]] Same : 3\n",
      "Epoch -  11 Place -  16  Result : [[1 1 1 0 1 1 0 0 1 1 1 0 0 1 1 1 0 0 1 1 0]] Same : 0\n",
      "Epoch -  12 Place -  4  Result : [[1 1 1 0 1 1 0 0 1 1 1 0 0 1 1 1 0 0 1 1 0]] Same : 1\n",
      "Epoch -  13 Place -  14  Result : [[1 1 1 0 1 1 0 0 1 1 1 0 0 1 1 1 0 0 1 1 0]] Same : 2\n",
      "Epoch -  14 Place -  5  Result : [[1 1 1 0 1 1 0 0 1 1 1 0 0 1 1 1 0 0 1 1 0]] Same : 3\n",
      "Epoch -  15 Place -  3  Result : [[1 1 1 0 1 1 0 0 1 1 1 0 0 1 1 1 0 0 1 1 0]] Same : 4\n",
      "Epoch -  16 Place -  3  Result : [[1 1 1 0 1 1 0 0 1 1 1 0 0 1 1 1 0 0 1 1 0]] Same : 5\n",
      "Epoch -  17 Place -  19  Result : [[1 1 1 0 1 1 0 0 1 1 1 0 0 1 1 1 0 0 1 1 0]] Same : 6\n",
      "Epoch -  18 Place -  15  Result : [[1 1 1 0 1 1 0 0 1 1 1 0 0 1 1 1 0 0 1 1 0]] Same : 7\n",
      "Epoch -  19 Place -  1  Result : [[1 1 1 0 1 1 0 0 1 1 1 0 0 1 1 1 0 0 1 1 0]] Same : 8\n",
      "Epoch -  20 Place -  0  Result : [[1 1 1 0 1 1 0 0 1 1 1 0 0 1 1 1 0 0 1 1 0]] Same : 9\n",
      "Epoch -  21 Place -  9  Result : [[1 1 1 0 1 1 0 0 1 1 1 0 0 1 1 1 0 0 1 1 0]] Same : 10\n",
      "Epoch -  22 Place -  14  Result : [[1 1 1 0 1 1 0 0 1 1 1 0 0 1 1 1 0 0 1 1 0]] Same : 11\n",
      "Epoch -  23 Place -  4  Result : [[1 1 1 0 1 1 0 0 1 1 1 0 0 1 1 1 0 0 1 1 0]] Same : 12\n",
      "Epoch -  24 Place -  18  Result : [[1 1 1 0 1 1 0 0 1 1 1 0 0 1 1 1 0 0 1 1 0]] Same : 13\n",
      "Epoch -  25 Place -  8  Result : [[1 1 1 0 1 1 0 0 1 1 1 0 0 1 1 1 0 0 1 1 0]] Same : 14\n",
      "Epoch -  26 Place -  8  Result : [[1 1 1 0 1 1 0 0 1 1 1 0 0 1 1 1 0 0 1 1 0]] Same : 15\n",
      "Epoch -  27 Place -  4  Result : [[1 1 1 0 1 1 0 0 1 1 1 0 0 1 1 1 0 0 1 1 0]] Same : 16\n",
      "Epoch -  28 Place -  18  Result : [[1 1 1 0 1 1 0 0 1 1 1 0 0 1 1 1 0 0 1 1 0]] Same : 17\n",
      "Epoch -  29 Place -  5  Result : [[1 1 1 0 1 1 0 0 1 1 1 0 0 1 1 1 0 0 1 1 0]] Same : 18\n",
      "Epoch -  30 Place -  17  Result : [[1 1 1 0 1 1 0 0 1 1 1 0 0 1 1 1 0 1 1 1 0]] Same : 19\n",
      "Epoch -  31 Place -  18  Result : [[1 1 1 0 1 1 0 0 1 1 1 0 0 1 1 1 0 1 1 1 0]] Same : 0\n",
      "Epoch -  32 Place -  11  Result : [[1 1 1 0 1 1 0 0 1 1 1 0 0 1 1 1 0 1 1 1 0]] Same : 1\n",
      "Epoch -  33 Place -  20  Result : [[1 1 1 0 1 1 0 0 1 1 1 0 0 1 1 1 0 1 1 1 0]] Same : 2\n",
      "Epoch -  34 Place -  6  Result : [[1 1 1 0 1 1 1 0 1 1 1 0 0 1 1 1 0 1 1 1 0]] Same : 3\n",
      "Epoch -  35 Place -  4  Result : [[1 1 1 0 1 1 1 0 1 1 1 0 0 1 1 1 0 1 1 1 0]] Same : 0\n",
      "Epoch -  36 Place -  6  Result : [[1 1 1 0 1 1 1 0 1 1 1 0 0 1 1 1 0 1 1 1 0]] Same : 1\n",
      "Epoch -  37 Place -  5  Result : [[1 1 1 0 1 1 1 0 1 1 1 0 0 1 1 1 0 1 1 1 0]] Same : 2\n",
      "Epoch -  38 Place -  5  Result : [[1 1 1 0 1 1 1 0 1 1 1 0 0 1 1 1 0 1 1 1 0]] Same : 3\n",
      "Epoch -  39 Place -  9  Result : [[1 1 1 0 1 1 1 0 1 1 1 0 0 1 1 1 0 1 1 1 0]] Same : 4\n",
      "Epoch -  40 Place -  20  Result : [[1 1 1 0 1 1 1 0 1 1 1 0 0 1 1 1 0 1 1 1 0]] Same : 5\n",
      "Epoch -  41 Place -  20  Result : [[1 1 1 0 1 1 1 0 1 1 1 0 0 1 1 1 0 1 1 1 0]] Same : 6\n",
      "Epoch -  42 Place -  12  Result : [[1 1 1 0 1 1 1 0 1 1 1 0 0 1 1 1 0 1 1 1 0]] Same : 7\n",
      "Epoch -  43 Place -  8  Result : [[1 1 1 0 1 1 1 0 1 1 1 0 0 1 1 1 0 1 1 1 0]] Same : 8\n",
      "Epoch -  44 Place -  9  Result : [[1 1 1 0 1 1 1 0 1 1 1 0 0 1 1 1 0 1 1 1 0]] Same : 9\n",
      "Epoch -  45 Place -  7  Result : [[1 1 1 0 1 1 1 0 1 1 1 0 0 1 1 1 0 1 1 1 0]] Same : 10\n",
      "Epoch -  46 Place -  16  Result : [[1 1 1 0 1 1 1 0 1 1 1 0 0 1 1 1 0 1 1 1 0]] Same : 11\n",
      "Epoch -  47 Place -  9  Result : [[1 1 1 0 1 1 1 0 1 1 1 0 0 1 1 1 0 1 1 1 0]] Same : 12\n",
      "Epoch -  48 Place -  10  Result : [[1 1 1 0 1 1 1 0 1 1 1 0 0 1 1 1 0 1 1 1 0]] Same : 13\n",
      "Epoch -  49 Place -  20  Result : [[1 1 1 0 1 1 1 0 1 1 1 0 0 1 1 1 0 1 1 1 0]] Same : 14\n",
      "Epoch -  50 Place -  5  Result : [[1 1 1 0 1 1 1 0 1 1 1 0 0 1 1 1 0 1 1 1 0]] Same : 15\n",
      "Epoch -  51 Place -  5  Result : [[1 1 1 0 1 1 1 0 1 1 1 0 0 1 1 1 0 1 1 1 0]] Same : 16\n",
      "Epoch -  52 Place -  11  Result : [[1 1 1 0 1 1 1 0 1 1 1 0 0 1 1 1 0 1 1 1 0]] Same : 17\n",
      "Epoch -  53 Place -  12  Result : [[1 1 1 0 1 1 1 0 1 1 1 0 0 1 1 1 0 1 1 1 0]] Same : 18\n",
      "Epoch -  54 Place -  16  Result : [[1 1 1 0 1 1 1 0 1 1 1 0 0 1 1 1 0 1 1 1 0]] Same : 19\n",
      "Epoch -  55 Place -  12  Result : [[1 1 1 0 1 1 1 0 1 1 1 0 0 1 1 1 0 1 1 1 0]] Same : 20\n",
      "Epoch -  56 Place -  10  Result : [[1 1 1 0 1 1 1 0 1 1 1 0 0 1 1 1 0 1 1 1 0]] Same : 21\n",
      "Epoch -  57 Place -  16  Result : [[1 1 1 0 1 1 1 0 1 1 1 0 0 1 1 1 0 1 1 1 0]] Same : 22\n",
      "Epoch -  58 Place -  3  Result : [[1 1 1 0 1 1 1 0 1 1 1 0 0 1 1 1 0 1 1 1 0]] Same : 23\n",
      "Epoch -  59 Place -  13  Result : [[1 1 1 0 1 1 1 0 1 1 1 0 0 1 1 1 0 1 1 1 0]] Same : 24\n",
      "Epoch -  60 Place -  7  Result : [[1 1 1 0 1 1 1 0 1 1 1 0 0 1 1 1 0 1 1 1 0]] Same : 25\n",
      "Epoch -  61 Place -  6  Result : [[1 1 1 0 1 1 1 0 1 1 1 0 0 1 1 1 0 1 1 1 0]] Same : 26\n",
      "Epoch -  62 Place -  5  Result : [[1 1 1 0 1 1 1 0 1 1 1 0 0 1 1 1 0 1 1 1 0]] Same : 27\n",
      "Epoch -  63 Place -  15  Result : [[1 1 1 0 1 1 1 0 1 1 1 0 0 1 1 1 0 1 1 1 0]] Same : 28\n",
      "Epoch -  64 Place -  14  Result : [[1 1 1 0 1 1 1 0 1 1 1 0 0 1 1 1 0 1 1 1 0]] Same : 29\n",
      "-----------------Execution Finished-----------\n"
     ]
    }
   ],
   "source": [
    "output = hopfield_test(X_test,weights,30)"
   ]
  },
  {
   "cell_type": "code",
   "execution_count": 8,
   "metadata": {
    "scrolled": true
   },
   "outputs": [
    {
     "name": "stdout",
     "output_type": "stream",
     "text": [
      "[[1 1 1 0 1 1 1 0 1 1 1 0 0 1 1 1 0 1 1 1 0]] \n",
      " [[1 1 1 0 1 1 1 0 1 1 1 0 0 1 1 1 0 1 1 1 0]]\n"
     ]
    }
   ],
   "source": [
    "print(X,\"\\n\",output)"
   ]
  },
  {
   "cell_type": "code",
   "execution_count": 9,
   "metadata": {},
   "outputs": [],
   "source": [
    "from sklearn.metrics import confusion_matrix\n",
    "cm = confusion_matrix(X[0],output[0])"
   ]
  },
  {
   "cell_type": "code",
   "execution_count": 10,
   "metadata": {},
   "outputs": [
    {
     "data": {
      "text/plain": [
       "array([[ 6,  0],\n",
       "       [ 0, 15]], dtype=int64)"
      ]
     },
     "execution_count": 10,
     "metadata": {},
     "output_type": "execute_result"
    }
   ],
   "source": [
    "cm"
   ]
  },
  {
   "cell_type": "code",
   "execution_count": 11,
   "metadata": {},
   "outputs": [
    {
     "name": "stdout",
     "output_type": "stream",
     "text": [
      "Accuracy :  100.0 %\n"
     ]
    }
   ],
   "source": [
    "print('Accuracy : ', (cm[0][0]+cm[1][1])/(cm[0][0]+cm[0][1]+cm[1][0]+cm[1][1])*100,'%')"
   ]
  }
 ],
 "metadata": {
  "kernelspec": {
   "display_name": "Python 3",
   "language": "python",
   "name": "python3"
  },
  "language_info": {
   "codemirror_mode": {
    "name": "ipython",
    "version": 3
   },
   "file_extension": ".py",
   "mimetype": "text/x-python",
   "name": "python",
   "nbconvert_exporter": "python",
   "pygments_lexer": "ipython3",
   "version": "3.7.7"
  },
  "varInspector": {
   "cols": {
    "lenName": 16,
    "lenType": 16,
    "lenVar": 40
   },
   "kernels_config": {
    "python": {
     "delete_cmd_postfix": "",
     "delete_cmd_prefix": "del ",
     "library": "var_list.py",
     "varRefreshCmd": "print(var_dic_list())"
    },
    "r": {
     "delete_cmd_postfix": ") ",
     "delete_cmd_prefix": "rm(",
     "library": "var_list.r",
     "varRefreshCmd": "cat(var_dic_list()) "
    }
   },
   "types_to_exclude": [
    "module",
    "function",
    "builtin_function_or_method",
    "instance",
    "_Feature"
   ],
   "window_display": false
  }
 },
 "nbformat": 4,
 "nbformat_minor": 4
}
