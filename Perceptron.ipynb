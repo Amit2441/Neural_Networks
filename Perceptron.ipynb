{
 "cells": [
  {
   "cell_type": "code",
   "execution_count": 2,
   "metadata": {},
   "outputs": [],
   "source": [
    "import numpy as np\n",
    "import pandas as pd\n",
    "import matplotlib.pyplot as plt\n",
    "plt.rcParams['figure.figsize'] = (20.0, 10.0)\n",
    "%matplotlib inline"
   ]
  },
  {
   "cell_type": "code",
   "execution_count": 3,
   "metadata": {},
   "outputs": [],
   "source": [
    "df = pd.read_csv('Social_Network_Ads.csv')"
   ]
  },
  {
   "cell_type": "code",
   "execution_count": 4,
   "metadata": {},
   "outputs": [],
   "source": [
    "X = df.iloc[:,2:4].values\n",
    "y = df.iloc[:,4].values"
   ]
  },
  {
   "cell_type": "markdown",
   "metadata": {},
   "source": [
    "### Train test Split"
   ]
  },
  {
   "cell_type": "code",
   "execution_count": 5,
   "metadata": {},
   "outputs": [],
   "source": [
    "from sklearn.model_selection import train_test_split"
   ]
  },
  {
   "cell_type": "code",
   "execution_count": 6,
   "metadata": {},
   "outputs": [],
   "source": [
    "X_train,X_test,y_train,y_test = train_test_split(X,y,test_size=0.25, random_state=0)"
   ]
  },
  {
   "cell_type": "markdown",
   "metadata": {},
   "source": [
    "### Scaling"
   ]
  },
  {
   "cell_type": "code",
   "execution_count": 7,
   "metadata": {},
   "outputs": [],
   "source": [
    "from sklearn.preprocessing import MinMaxScaler"
   ]
  },
  {
   "cell_type": "code",
   "execution_count": 8,
   "metadata": {},
   "outputs": [],
   "source": [
    "sc_X = MinMaxScaler(feature_range=(0, 1))"
   ]
  },
  {
   "cell_type": "code",
   "execution_count": 9,
   "metadata": {},
   "outputs": [],
   "source": [
    "X_train = sc_X.fit_transform(X_train)\n",
    "X_test = sc_X.fit_transform(X_test)"
   ]
  },
  {
   "cell_type": "code",
   "execution_count": 10,
   "metadata": {},
   "outputs": [
    {
     "name": "stdout",
     "output_type": "stream",
     "text": [
      "[[0.61904762 0.17777778]\n",
      " [0.33333333 0.77777778]\n",
      " [0.47619048 0.25925926]\n",
      " [0.33333333 0.88888889]\n",
      " [0.80952381 0.04444444]\n",
      " [0.83333333 0.65925926]\n",
      " [0.5        0.2       ]\n",
      " [0.47619048 0.34074074]\n",
      " [0.42857143 0.25925926]\n",
      " [0.42857143 0.35555556]\n",
      " [0.4047619  0.07407407]\n",
      " [0.4047619  0.25925926]\n",
      " [0.57142857 0.42962963]\n",
      " [0.69047619 0.25185185]\n",
      " [0.97619048 0.1037037 ]\n",
      " [0.73809524 0.37037037]\n",
      " [0.64285714 0.85925926]\n",
      " [0.30952381 0.54814815]\n",
      " [0.66666667 0.4962963 ]\n",
      " [0.69047619 0.26666667]\n",
      " [0.19047619 0.        ]\n",
      " [1.         0.64444444]\n",
      " [0.47619048 0.71851852]\n",
      " [0.52380952 0.68148148]\n",
      " [0.57142857 0.28148148]\n",
      " [0.4047619  0.32592593]\n",
      " [0.71428571 0.19259259]\n",
      " [0.71428571 0.88148148]\n",
      " [0.47619048 0.72592593]\n",
      " [0.26190476 0.98518519]\n",
      " [0.19047619 0.        ]\n",
      " [1.         0.2       ]\n",
      " [0.14285714 0.02962963]\n",
      " [0.57142857 0.99259259]\n",
      " [0.66666667 0.6       ]\n",
      " [0.23809524 0.32592593]\n",
      " [0.5        0.6       ]\n",
      " [0.23809524 0.54814815]\n",
      " [0.54761905 0.42222222]\n",
      " [0.64285714 0.08148148]\n",
      " [0.35714286 0.4       ]\n",
      " [0.04761905 0.4962963 ]\n",
      " [0.30952381 0.43703704]\n",
      " [0.57142857 0.48148148]\n",
      " [0.4047619  0.42222222]\n",
      " [0.35714286 0.99259259]\n",
      " [0.52380952 0.41481481]\n",
      " [0.78571429 0.97037037]\n",
      " [0.66666667 0.47407407]\n",
      " [0.4047619  0.44444444]\n",
      " [0.47619048 0.26666667]\n",
      " [0.42857143 0.44444444]\n",
      " [0.45238095 0.46666667]\n",
      " [0.47619048 0.34074074]\n",
      " [1.         0.68888889]\n",
      " [0.04761905 0.4962963 ]\n",
      " [0.92857143 0.43703704]\n",
      " [0.57142857 0.37037037]\n",
      " [0.19047619 0.48148148]\n",
      " [0.66666667 0.75555556]\n",
      " [0.4047619  0.34074074]\n",
      " [0.07142857 0.39259259]\n",
      " [0.23809524 0.21481481]\n",
      " [0.54761905 0.53333333]\n",
      " [0.45238095 0.13333333]\n",
      " [0.21428571 0.55555556]\n",
      " [0.5        0.2       ]\n",
      " [0.23809524 0.8       ]\n",
      " [0.30952381 0.76296296]\n",
      " [0.16666667 0.53333333]\n",
      " [0.4047619  0.41481481]\n",
      " [0.45238095 0.40740741]\n",
      " [0.4047619  0.17777778]\n",
      " [0.69047619 0.05925926]\n",
      " [0.4047619  0.97777778]\n",
      " [0.71428571 0.91111111]\n",
      " [0.19047619 0.52592593]\n",
      " [0.16666667 0.47407407]\n",
      " [0.80952381 0.91111111]\n",
      " [0.78571429 0.05925926]\n",
      " [0.4047619  0.33333333]\n",
      " [0.35714286 0.72592593]\n",
      " [0.28571429 0.68148148]\n",
      " [0.71428571 0.13333333]\n",
      " [0.54761905 0.48148148]\n",
      " [0.71428571 0.6       ]\n",
      " [0.30952381 0.02222222]\n",
      " [0.30952381 0.41481481]\n",
      " [0.5952381  0.84444444]\n",
      " [0.97619048 0.45185185]\n",
      " [0.         0.21481481]\n",
      " [0.42857143 0.76296296]\n",
      " [0.57142857 0.55555556]\n",
      " [0.69047619 0.11111111]\n",
      " [0.19047619 0.20740741]\n",
      " [0.52380952 0.46666667]\n",
      " [0.66666667 0.32592593]\n",
      " [0.97619048 0.2       ]\n",
      " [0.66666667 0.43703704]\n",
      " [0.4047619  0.56296296]\n",
      " [0.23809524 0.32592593]\n",
      " [0.52380952 0.31111111]\n",
      " [0.97619048 0.94814815]\n",
      " [0.92857143 0.08148148]\n",
      " [0.80952381 0.17037037]\n",
      " [0.69047619 0.72592593]\n",
      " [0.83333333 0.94814815]\n",
      " [0.4047619  0.08888889]\n",
      " [0.95238095 0.63703704]\n",
      " [0.64285714 0.22222222]\n",
      " [0.11904762 0.4962963 ]\n",
      " [0.66666667 0.05925926]\n",
      " [0.57142857 0.37037037]\n",
      " [0.23809524 0.51111111]\n",
      " [0.47619048 0.32592593]\n",
      " [0.19047619 0.51111111]\n",
      " [0.26190476 0.0962963 ]\n",
      " [0.45238095 0.41481481]\n",
      " [0.0952381  0.2962963 ]\n",
      " [0.71428571 0.14814815]\n",
      " [0.73809524 0.0962963 ]\n",
      " [0.47619048 0.37037037]\n",
      " [0.21428571 0.01481481]\n",
      " [0.66666667 0.0962963 ]\n",
      " [0.71428571 0.93333333]\n",
      " [0.19047619 0.01481481]\n",
      " [0.4047619  0.60740741]\n",
      " [0.5        0.32592593]\n",
      " [0.14285714 0.08888889]\n",
      " [0.33333333 0.02222222]\n",
      " [0.66666667 0.54074074]\n",
      " [0.4047619  0.31851852]\n",
      " [0.9047619  0.33333333]\n",
      " [0.69047619 0.14074074]\n",
      " [0.52380952 0.42222222]\n",
      " [0.33333333 0.62962963]\n",
      " [0.02380952 0.04444444]\n",
      " [0.16666667 0.55555556]\n",
      " [0.4047619  0.54074074]\n",
      " [0.23809524 0.12592593]\n",
      " [0.76190476 0.03703704]\n",
      " [0.52380952 0.32592593]\n",
      " [0.76190476 0.21481481]\n",
      " [0.4047619  0.42222222]\n",
      " [0.52380952 0.94074074]\n",
      " [0.66666667 0.12592593]\n",
      " [0.5        0.41481481]\n",
      " [0.04761905 0.43703704]\n",
      " [0.26190476 0.44444444]\n",
      " [0.30952381 0.45185185]\n",
      " [0.69047619 0.07407407]\n",
      " [0.52380952 0.34074074]\n",
      " [0.38095238 0.71851852]\n",
      " [0.47619048 0.48148148]\n",
      " [0.57142857 0.44444444]\n",
      " [0.69047619 0.23703704]\n",
      " [0.5        0.44444444]\n",
      " [0.02380952 0.07407407]\n",
      " [0.45238095 0.48148148]\n",
      " [0.42857143 0.33333333]\n",
      " [0.54761905 0.27407407]\n",
      " [0.42857143 0.81481481]\n",
      " [0.71428571 0.1037037 ]\n",
      " [0.42857143 0.82222222]\n",
      " [0.78571429 0.88148148]\n",
      " [0.21428571 0.31111111]\n",
      " [0.47619048 0.41481481]\n",
      " [0.5        0.34074074]\n",
      " [0.0952381  0.08888889]\n",
      " [0.35714286 0.33333333]\n",
      " [0.71428571 0.43703704]\n",
      " [0.95238095 0.05925926]\n",
      " [0.83333333 0.42222222]\n",
      " [0.33333333 0.75555556]\n",
      " [0.85714286 0.40740741]\n",
      " [0.28571429 0.48148148]\n",
      " [0.95238095 0.59259259]\n",
      " [0.19047619 0.27407407]\n",
      " [0.64285714 0.47407407]\n",
      " [0.14285714 0.2962963 ]\n",
      " [0.52380952 0.44444444]\n",
      " [0.35714286 0.0962963 ]\n",
      " [0.61904762 0.91851852]\n",
      " [0.0952381  0.02222222]\n",
      " [0.35714286 0.26666667]\n",
      " [0.5952381  0.87407407]\n",
      " [0.14285714 0.12592593]\n",
      " [0.66666667 0.05185185]\n",
      " [0.4047619  0.2962963 ]\n",
      " [0.85714286 0.65925926]\n",
      " [0.71428571 0.77037037]\n",
      " [0.4047619  0.28148148]\n",
      " [0.45238095 0.95555556]\n",
      " [0.11904762 0.37777778]\n",
      " [0.45238095 0.9037037 ]\n",
      " [0.30952381 0.31851852]\n",
      " [0.35714286 0.19259259]\n",
      " [0.64285714 0.05185185]\n",
      " [0.28571429 0.        ]\n",
      " [0.02380952 0.02962963]\n",
      " [0.73809524 0.43703704]\n",
      " [0.5        0.79259259]\n",
      " [0.4047619  0.42962963]\n",
      " [0.5        0.41481481]\n",
      " [0.14285714 0.05925926]\n",
      " [0.54761905 0.42222222]\n",
      " [0.26190476 0.5037037 ]\n",
      " [0.85714286 0.08148148]\n",
      " [0.4047619  0.21481481]\n",
      " [0.45238095 0.44444444]\n",
      " [0.26190476 0.23703704]\n",
      " [0.30952381 0.39259259]\n",
      " [0.57142857 0.28888889]\n",
      " [0.28571429 0.88888889]\n",
      " [0.80952381 0.73333333]\n",
      " [0.76190476 0.15555556]\n",
      " [0.9047619  0.87407407]\n",
      " [0.26190476 0.34074074]\n",
      " [0.28571429 0.54814815]\n",
      " [0.19047619 0.00740741]\n",
      " [0.35714286 0.11851852]\n",
      " [0.54761905 0.42222222]\n",
      " [0.42857143 0.13333333]\n",
      " [0.88095238 0.81481481]\n",
      " [0.71428571 0.85925926]\n",
      " [0.54761905 0.41481481]\n",
      " [0.28571429 0.34814815]\n",
      " [0.45238095 0.42222222]\n",
      " [0.54761905 0.35555556]\n",
      " [0.95238095 0.23703704]\n",
      " [0.28571429 0.74814815]\n",
      " [0.04761905 0.25185185]\n",
      " [0.45238095 0.43703704]\n",
      " [0.54761905 0.32592593]\n",
      " [0.73809524 0.54814815]\n",
      " [0.23809524 0.47407407]\n",
      " [0.83333333 0.4962963 ]\n",
      " [0.52380952 0.31111111]\n",
      " [1.         0.14074074]\n",
      " [0.4047619  0.68888889]\n",
      " [0.07142857 0.42222222]\n",
      " [0.47619048 0.41481481]\n",
      " [0.5        0.67407407]\n",
      " [0.45238095 0.31111111]\n",
      " [0.19047619 0.42222222]\n",
      " [0.4047619  0.05925926]\n",
      " [0.85714286 0.68888889]\n",
      " [0.28571429 0.01481481]\n",
      " [0.5        0.88148148]\n",
      " [0.26190476 0.20740741]\n",
      " [0.35714286 0.20740741]\n",
      " [0.4047619  0.17037037]\n",
      " [0.54761905 0.22222222]\n",
      " [0.54761905 0.42222222]\n",
      " [0.5        0.88148148]\n",
      " [0.21428571 0.9037037 ]\n",
      " [0.07142857 0.00740741]\n",
      " [0.19047619 0.12592593]\n",
      " [0.30952381 0.37777778]\n",
      " [0.5        0.42962963]\n",
      " [0.54761905 0.47407407]\n",
      " [0.69047619 0.25925926]\n",
      " [0.54761905 0.11111111]\n",
      " [0.45238095 0.57777778]\n",
      " [1.         0.22962963]\n",
      " [0.16666667 0.05185185]\n",
      " [0.23809524 0.16296296]\n",
      " [0.47619048 0.2962963 ]\n",
      " [0.42857143 0.28888889]\n",
      " [0.04761905 0.15555556]\n",
      " [0.9047619  0.65925926]\n",
      " [0.52380952 0.31111111]\n",
      " [0.57142857 0.68888889]\n",
      " [0.04761905 0.05925926]\n",
      " [0.52380952 0.37037037]\n",
      " [0.69047619 0.03703704]\n",
      " [0.         0.52592593]\n",
      " [0.4047619  0.47407407]\n",
      " [0.92857143 0.13333333]\n",
      " [0.38095238 0.42222222]\n",
      " [0.73809524 0.17777778]\n",
      " [0.21428571 0.11851852]\n",
      " [0.02380952 0.40740741]\n",
      " [0.5        0.47407407]\n",
      " [0.19047619 0.48888889]\n",
      " [0.16666667 0.48148148]\n",
      " [0.23809524 0.51851852]\n",
      " [0.88095238 0.17777778]\n",
      " [0.76190476 0.54074074]\n",
      " [0.73809524 0.54074074]\n",
      " [0.80952381 1.        ]\n",
      " [0.4047619  0.37037037]\n",
      " [0.57142857 0.28888889]\n",
      " [0.38095238 0.20740741]\n",
      " [0.45238095 0.27407407]\n",
      " [0.71428571 0.11111111]\n",
      " [0.26190476 0.20740741]\n",
      " [0.42857143 0.27407407]\n",
      " [0.21428571 0.28888889]\n",
      " [0.19047619 0.76296296]] \n",
      "-------------------------------\n",
      " [[0.28571429 0.53333333]\n",
      " [0.47619048 0.25925926]\n",
      " [0.4047619  0.44444444]\n",
      " [0.28571429 0.47407407]\n",
      " [0.4047619  0.25925926]\n",
      " [0.21428571 0.03703704]\n",
      " [0.30952381 0.        ]\n",
      " [0.42857143 0.95555556]\n",
      " [0.         0.39259259]\n",
      " [0.69047619 0.20740741]\n",
      " [0.28571429 0.25185185]\n",
      " [0.23809524 0.2962963 ]\n",
      " [0.45238095 0.2962963 ]\n",
      " [0.5        0.45925926]\n",
      " [0.04761905 0.52592593]\n",
      " [0.33333333 0.75555556]\n",
      " [0.45238095 0.45925926]\n",
      " [0.02380952 0.51851852]\n",
      " [0.88095238 0.85185185]\n",
      " [0.4047619  0.05185185]\n",
      " [0.4047619  0.23703704]\n",
      " [0.69047619 0.95555556]\n",
      " [0.54761905 0.26666667]\n",
      " [0.69047619 0.66666667]\n",
      " [0.11904762 0.0962963 ]\n",
      " [0.73809524 0.93333333]\n",
      " [0.23809524 0.53333333]\n",
      " [0.26190476 0.48148148]\n",
      " [0.45238095 0.34814815]\n",
      " [0.33333333 0.52592593]\n",
      " [0.07142857 0.54074074]\n",
      " [0.45238095 0.47407407]\n",
      " [0.92857143 0.33333333]\n",
      " [0.45238095 0.28148148]\n",
      " [0.14285714 0.31851852]\n",
      " [0.         0.27407407]\n",
      " [0.0952381  0.48888889]\n",
      " [0.38095238 0.20740741]\n",
      " [0.30952381 0.14074074]\n",
      " [0.73809524 0.15555556]\n",
      " [0.21428571 0.54074074]\n",
      " [0.54761905 0.27407407]\n",
      " [0.21428571 0.51111111]\n",
      " [0.4047619  0.03703704]\n",
      " [0.5952381  0.71851852]\n",
      " [0.21428571 0.31851852]\n",
      " [0.45238095 0.48148148]\n",
      " [0.80952381 0.55555556]\n",
      " [0.19047619 0.11111111]\n",
      " [0.73809524 0.52592593]\n",
      " [0.92857143 0.79259259]\n",
      " [0.38095238 0.07407407]\n",
      " [0.4047619  0.31111111]\n",
      " [0.38095238 0.74074074]\n",
      " [0.97619048 0.54074074]\n",
      " [0.64285714 0.12592593]\n",
      " [0.26190476 0.5037037 ]\n",
      " [0.19047619 0.48148148]\n",
      " [0.73809524 0.0962963 ]\n",
      " [0.11904762 0.03703704]\n",
      " [0.33333333 0.02222222]\n",
      " [1.         0.2       ]\n",
      " [0.02380952 0.45185185]\n",
      " [0.42857143 0.62222222]\n",
      " [0.02380952 0.08148148]\n",
      " [1.         0.5037037 ]\n",
      " [0.14285714 0.54814815]\n",
      " [0.21428571 0.31851852]\n",
      " [0.52380952 0.23703704]\n",
      " [0.57142857 0.40740741]\n",
      " [0.33333333 1.        ]\n",
      " [0.4047619  0.45925926]\n",
      " [0.0952381  0.35555556]\n",
      " [0.64285714 0.05185185]\n",
      " [0.21428571 0.54814815]\n",
      " [0.         0.4962963 ]\n",
      " [0.57142857 0.47407407]\n",
      " [0.52380952 0.33333333]\n",
      " [0.83333333 0.14074074]\n",
      " [0.69047619 0.68148148]\n",
      " [0.95238095 0.95555556]\n",
      " [0.97619048 0.5037037 ]\n",
      " [0.14285714 0.2962963 ]\n",
      " [0.19047619 0.14814815]\n",
      " [0.95238095 0.17037037]\n",
      " [0.57142857 0.48148148]\n",
      " [0.52380952 0.44444444]\n",
      " [0.97619048 0.85185185]\n",
      " [0.66666667 0.19259259]\n",
      " [0.54761905 0.33333333]\n",
      " [0.57142857 0.36296296]\n",
      " [0.45238095 0.97037037]\n",
      " [0.11904762 0.24444444]\n",
      " [0.16666667 0.13333333]\n",
      " [0.14285714 0.51111111]\n",
      " [0.21428571 0.6       ]\n",
      " [0.11904762 0.35555556]\n",
      " [0.71428571 0.13333333]\n",
      " [0.71428571 0.55555556]\n",
      " [0.57142857 0.65925926]]\n"
     ]
    }
   ],
   "source": [
    "print(X_train,\"\\n-------------------------------\\n\",X_test)"
   ]
  },
  {
   "cell_type": "markdown",
   "metadata": {},
   "source": [
    "### Perceptron Model"
   ]
  },
  {
   "cell_type": "code",
   "execution_count": 11,
   "metadata": {},
   "outputs": [],
   "source": [
    "class Perceptron(object):\n",
    "\n",
    "    def __init__(self, no_of_features, epochs, learning_rate):\n",
    "        self.epochs = epochs\n",
    "        self.learning_rate = learning_rate\n",
    "        self.weights = np.zeros(no_of_features + 1)\n",
    "           \n",
    "    def predict(self, inputs):\n",
    "        summation = np.dot(inputs, self.weights[1:]) + self.weights[0]\n",
    "        return np.where(summation>0.3,1,0)\n",
    "\n",
    "    def fit(self, training_inputs, labels):\n",
    "        i=0\n",
    "        while i<= self.epochs:\n",
    "            for inputs, label in zip(training_inputs, labels):\n",
    "                prediction = self.predict(inputs)\n",
    "                self.weights[1:] += self.learning_rate * (label - prediction) * inputs\n",
    "                self.weights[0] += self.learning_rate * (label - prediction)\n",
    "            i=i+1"
   ]
  },
  {
   "cell_type": "code",
   "execution_count": null,
   "metadata": {},
   "outputs": [],
   "source": []
  },
  {
   "cell_type": "code",
   "execution_count": 12,
   "metadata": {},
   "outputs": [],
   "source": [
    "model = Perceptron(2,10000,0.0001)"
   ]
  },
  {
   "cell_type": "code",
   "execution_count": 13,
   "metadata": {},
   "outputs": [],
   "source": [
    "model.fit(X_train,y_train)"
   ]
  },
  {
   "cell_type": "code",
   "execution_count": 14,
   "metadata": {},
   "outputs": [],
   "source": [
    "y_pred = model.predict(X_test)"
   ]
  },
  {
   "cell_type": "code",
   "execution_count": 15,
   "metadata": {},
   "outputs": [
    {
     "data": {
      "text/plain": [
       "array([0, 0, 0, 0, 0, 0, 0, 1, 0, 1, 0, 0, 0, 0, 0, 0, 0, 0, 1, 0, 0, 1,\n",
       "       0, 1, 0, 1, 0, 0, 0, 0, 0, 0, 1, 0, 0, 0, 0, 0, 0, 1, 0, 0, 0, 0,\n",
       "       1, 0, 0, 1, 0, 1, 1, 0, 0, 0, 1, 0, 0, 0, 1, 0, 0, 1, 0, 0, 0, 1,\n",
       "       0, 0, 0, 1, 1, 0, 0, 0, 0, 0, 1, 0, 1, 1, 1, 1, 0, 0, 1, 1, 0, 1,\n",
       "       0, 0, 0, 1, 0, 0, 0, 0, 0, 1, 1, 1])"
      ]
     },
     "execution_count": 15,
     "metadata": {},
     "output_type": "execute_result"
    }
   ],
   "source": [
    "y_pred"
   ]
  },
  {
   "cell_type": "markdown",
   "metadata": {},
   "source": [
    "### Evaluation"
   ]
  },
  {
   "cell_type": "code",
   "execution_count": 16,
   "metadata": {},
   "outputs": [
    {
     "data": {
      "text/plain": [
       "array([[64,  4],\n",
       "       [ 6, 26]], dtype=int64)"
      ]
     },
     "execution_count": 16,
     "metadata": {},
     "output_type": "execute_result"
    }
   ],
   "source": [
    "from sklearn.metrics import confusion_matrix,classification_report\n",
    "cm = confusion_matrix(y_test,y_pred)\n",
    "cm"
   ]
  },
  {
   "cell_type": "code",
   "execution_count": 17,
   "metadata": {},
   "outputs": [
    {
     "name": "stdout",
     "output_type": "stream",
     "text": [
      "Accuracy =  90.0 %\n"
     ]
    }
   ],
   "source": [
    "accuracy = (cm[0][0]+cm[1][1])/(cm[0][0]+cm[0][1]+cm[1][0]+cm[1][1])*100\n",
    "print('Accuracy = ',accuracy,'%')"
   ]
  },
  {
   "cell_type": "markdown",
   "metadata": {},
   "source": [
    "### Visualization"
   ]
  },
  {
   "cell_type": "code",
   "execution_count": 53,
   "metadata": {},
   "outputs": [
    {
     "name": "stderr",
     "output_type": "stream",
     "text": [
      "*c* argument looks like a single numeric RGB or RGBA sequence, which should be avoided as value-mapping will have precedence in case its length matches with *x* & *y*.  Please use the *color* keyword-argument or provide a 2-D array with a single row if you intend to specify the same RGB or RGBA value for all points.\n",
      "*c* argument looks like a single numeric RGB or RGBA sequence, which should be avoided as value-mapping will have precedence in case its length matches with *x* & *y*.  Please use the *color* keyword-argument or provide a 2-D array with a single row if you intend to specify the same RGB or RGBA value for all points.\n"
     ]
    },
    {
     "data": {
      "image/png": "[encoded data removed]",
      "text/plain": [
       "<Figure size 1440x720 with 1 Axes>"
      ]
     },
     "metadata": {
      "needs_background": "light"
     },
     "output_type": "display_data"
    }
   ],
   "source": [
    "plt.figure(figsize=(20,10))\n",
    "from matplotlib.colors import ListedColormap\n",
    "X_set, y_set = X_test, y_test\n",
    "X1, X2 = np.meshgrid(np.arange(start = X_set[:, 0].min() - 1, stop = X_set[:, 0].max() + 1, step = 0.01),\n",
    "                     np.arange(start = X_set[:, 1].min() - 1, stop = X_set[:, 1].max() + 1, step = 0.01))\n",
    "plt.contourf(X1, X2, model.predict(np.array([X1.ravel(), X2.ravel()]).T).reshape(X1.shape),\n",
    "             alpha = 0.75, cmap = ListedColormap(('red', 'green')))\n",
    "plt.xlim(X1.min(), X1.max())\n",
    "plt.ylim(X2.min(), X2.max())\n",
    "for i, j in enumerate(np.unique(y_set)):\n",
    "    plt.scatter(X_set[y_set == j, 0], X_set[y_set == j, 1],\n",
    "                c = ListedColormap(('orange', 'green'))(i), label = j)\n",
    "plt.title('K-NN (Test set)')\n",
    "plt.xlabel('Age')\n",
    "plt.ylabel('Estimated Salary')\n",
    "plt.legend()\n",
    "plt.show()"
   ]
  },
  {
   "cell_type": "code",
   "execution_count": null,
   "metadata": {},
   "outputs": [],
   "source": []
  },
  {
   "cell_type": "code",
   "execution_count": null,
   "metadata": {},
   "outputs": [],
   "source": []
  }
 ],
 "metadata": {
  "kernelspec": {
   "display_name": "Python 3",
   "language": "python",
   "name": "python3"
  },
  "language_info": {
   "codemirror_mode": {
    "name": "ipython",
    "version": 3
   },
   "file_extension": ".py",
   "mimetype": "text/x-python",
   "name": "python",
   "nbconvert_exporter": "python",
   "pygments_lexer": "ipython3",
   "version": "3.7.7"
  },
  "varInspector": {
   "cols": {
    "lenName": 16,
    "lenType": 16,
    "lenVar": 40
   },
   "kernels_config": {
    "python": {
     "delete_cmd_postfix": "",
     "delete_cmd_prefix": "del ",
     "library": "var_list.py",
     "varRefreshCmd": "print(var_dic_list())"
    },
    "r": {
     "delete_cmd_postfix": ") ",
     "delete_cmd_prefix": "rm(",
     "library": "var_list.r",
     "varRefreshCmd": "cat(var_dic_list()) "
    }
   },
   "types_to_exclude": [
    "module",
    "function",
    "builtin_function_or_method",
    "instance",
    "_Feature"
   ],
   "window_display": false
  }
 },
 "nbformat": 4,
 "nbformat_minor": 4
}
