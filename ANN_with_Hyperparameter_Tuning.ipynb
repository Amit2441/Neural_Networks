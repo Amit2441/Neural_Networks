{
  "nbformat": 4,
  "nbformat_minor": 0,
  "metadata": {
    "colab": {
      "name": "ANN_with_Hyperparameter_Tuning",
      "provenance": [],
      "collapsed_sections": []
    },
    "kernelspec": {
      "name": "python3",
      "display_name": "Python 3"
    }
  },
  "cells": [
    {
      "cell_type": "markdown",
      "metadata": {
        "id": "aZcIgdfzlJUU"
      },
      "source": [
        "**Get Dataset in Colab From Kaggle**\n"
      ]
    },
    {
      "cell_type": "code",
      "metadata": {
        "id": "a7Np_U88jv90",
        "outputId": "86507dd9-bae2-4e88-ac79-091b008f7404",
        "colab": {
          "resources": {
            "http://localhost:8080/nbextensions/google.colab/files.js": {
              "data": "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",
              "ok": true,
              "headers": [
                [
                  "content-type",
                  "application/javascript"
                ]
              ],
              "status": 200,
              "status_text": ""
            }
          },
          "base_uri": "https://localhost:8080/",
          "height": 89
        }
      },
      "source": [
        "!pip install -q kaggle\n",
        "from google.colab import files\n",
        "files.upload()"
      ],
      "execution_count": 2,
      "outputs": [
        {
          "output_type": "display_data",
          "data": {
            "text/html": [
              "\n",
              "     <input type=\"file\" id=\"files-1fc905fb-ad0e-47f0-81b0-3233a25aa156\" name=\"files[]\" multiple disabled\n",
              "        style=\"border:none\" />\n",
              "     <output id=\"result-1fc905fb-ad0e-47f0-81b0-3233a25aa156\">\n",
              "      Upload widget is only available when the cell has been executed in the\n",
              "      current browser session. Please rerun this cell to enable.\n",
              "      </output>\n",
              "      <script src=\"/nbextensions/google.colab/files.js\"></script> "
            ],
            "text/plain": [
              "<IPython.core.display.HTML object>"
            ]
          },
          "metadata": {
            "tags": []
          }
        },
        {
          "output_type": "stream",
          "text": [
            "Saving kaggle.json to kaggle.json\n"
          ],
          "name": "stdout"
        },
        {
          "output_type": "execute_result",
          "data": {
            "text/plain": [
              "{'kaggle.json': b'{\"username\":\"amitkarmakar41\",\"key\":\"c85bec72c3fbb356b0dac60ae095d7bf\"}'}"
            ]
          },
          "metadata": {
            "tags": []
          },
          "execution_count": 2
        }
      ]
    },
    {
      "cell_type": "code",
      "metadata": {
        "id": "oq4VYFzfkIoe"
      },
      "source": [
        "!mkdir ~/.kaggle\n",
        "!cp kaggle.json ~/.kaggle/"
      ],
      "execution_count": 3,
      "outputs": []
    },
    {
      "cell_type": "code",
      "metadata": {
        "id": "vrBvVJ-PkNde"
      },
      "source": [
        "!chmod 600 ~/.kaggle/kaggle.json"
      ],
      "execution_count": 4,
      "outputs": []
    },
    {
      "cell_type": "code",
      "metadata": {
        "id": "R8Z1mJ4FkSU2",
        "outputId": "7d9e83bb-f6d9-4c58-dc55-8452725dda02",
        "colab": {
          "base_uri": "https://localhost:8080/",
          "height": 68
        }
      },
      "source": [
        "!kaggle datasets download -d shubh0799/churn-modelling"
      ],
      "execution_count": 5,
      "outputs": [
        {
          "output_type": "stream",
          "text": [
            "Downloading churn-modelling.zip to /content\n",
            "\r  0% 0.00/262k [00:00<?, ?B/s]\n",
            "\r100% 262k/262k [00:00<00:00, 85.0MB/s]\n"
          ],
          "name": "stdout"
        }
      ]
    },
    {
      "cell_type": "markdown",
      "metadata": {
        "id": "IEp0R0ZBlWRw"
      },
      "source": [
        "**Code Starts Here**"
      ]
    },
    {
      "cell_type": "code",
      "metadata": {
        "id": "X6nxjacOjnxe"
      },
      "source": [
        "import numpy as np\n",
        "import pandas as pd\n",
        "import matplotlib.pyplot as plt\n",
        "%matplotlib inline"
      ],
      "execution_count": 6,
      "outputs": []
    },
    {
      "cell_type": "code",
      "metadata": {
        "id": "qZ92bBjmHgIl"
      },
      "source": [
        "dataset = pd.read_csv('/content/churn-modelling.zip')"
      ],
      "execution_count": 8,
      "outputs": []
    },
    {
      "cell_type": "code",
      "metadata": {
        "id": "FMvGClscHlRQ",
        "outputId": "dffe5a74-e71a-485d-946a-77bfb387ea1a",
        "colab": {
          "base_uri": "https://localhost:8080/",
          "height": 224
        }
      },
      "source": [
        "dataset.head()"
      ],
      "execution_count": 9,
      "outputs": [
        {
          "output_type": "execute_result",
          "data": {
            "text/html": [
              "<div>\n",
              "<style scoped>\n",
              "    .dataframe tbody tr th:only-of-type {\n",
              "        vertical-align: middle;\n",
              "    }\n",
              "\n",
              "    .dataframe tbody tr th {\n",
              "        vertical-align: top;\n",
              "    }\n",
              "\n",
              "    .dataframe thead th {\n",
              "        text-align: right;\n",
              "    }\n",
              "</style>\n",
              "<table border=\"1\" class=\"dataframe\">\n",
              "  <thead>\n",
              "    <tr style=\"text-align: right;\">\n",
              "      <th></th>\n",
              "      <th>RowNumber</th>\n",
              "      <th>CustomerId</th>\n",
              "      <th>Surname</th>\n",
              "      <th>CreditScore</th>\n",
              "      <th>Geography</th>\n",
              "      <th>Gender</th>\n",
              "      <th>Age</th>\n",
              "      <th>Tenure</th>\n",
              "      <th>Balance</th>\n",
              "      <th>NumOfProducts</th>\n",
              "      <th>HasCrCard</th>\n",
              "      <th>IsActiveMember</th>\n",
              "      <th>EstimatedSalary</th>\n",
              "      <th>Exited</th>\n",
              "    </tr>\n",
              "  </thead>\n",
              "  <tbody>\n",
              "    <tr>\n",
              "      <th>0</th>\n",
              "      <td>1</td>\n",
              "      <td>15634602</td>\n",
              "      <td>Hargrave</td>\n",
              "      <td>619</td>\n",
              "      <td>France</td>\n",
              "      <td>Female</td>\n",
              "      <td>42</td>\n",
              "      <td>2</td>\n",
              "      <td>0.00</td>\n",
              "      <td>1</td>\n",
              "      <td>1</td>\n",
              "      <td>1</td>\n",
              "      <td>101348.88</td>\n",
              "      <td>1</td>\n",
              "    </tr>\n",
              "    <tr>\n",
              "      <th>1</th>\n",
              "      <td>2</td>\n",
              "      <td>15647311</td>\n",
              "      <td>Hill</td>\n",
              "      <td>608</td>\n",
              "      <td>Spain</td>\n",
              "      <td>Female</td>\n",
              "      <td>41</td>\n",
              "      <td>1</td>\n",
              "      <td>83807.86</td>\n",
              "      <td>1</td>\n",
              "      <td>0</td>\n",
              "      <td>1</td>\n",
              "      <td>112542.58</td>\n",
              "      <td>0</td>\n",
              "    </tr>\n",
              "    <tr>\n",
              "      <th>2</th>\n",
              "      <td>3</td>\n",
              "      <td>15619304</td>\n",
              "      <td>Onio</td>\n",
              "      <td>502</td>\n",
              "      <td>France</td>\n",
              "      <td>Female</td>\n",
              "      <td>42</td>\n",
              "      <td>8</td>\n",
              "      <td>159660.80</td>\n",
              "      <td>3</td>\n",
              "      <td>1</td>\n",
              "      <td>0</td>\n",
              "      <td>113931.57</td>\n",
              "      <td>1</td>\n",
              "    </tr>\n",
              "    <tr>\n",
              "      <th>3</th>\n",
              "      <td>4</td>\n",
              "      <td>15701354</td>\n",
              "      <td>Boni</td>\n",
              "      <td>699</td>\n",
              "      <td>France</td>\n",
              "      <td>Female</td>\n",
              "      <td>39</td>\n",
              "      <td>1</td>\n",
              "      <td>0.00</td>\n",
              "      <td>2</td>\n",
              "      <td>0</td>\n",
              "      <td>0</td>\n",
              "      <td>93826.63</td>\n",
              "      <td>0</td>\n",
              "    </tr>\n",
              "    <tr>\n",
              "      <th>4</th>\n",
              "      <td>5</td>\n",
              "      <td>15737888</td>\n",
              "      <td>Mitchell</td>\n",
              "      <td>850</td>\n",
              "      <td>Spain</td>\n",
              "      <td>Female</td>\n",
              "      <td>43</td>\n",
              "      <td>2</td>\n",
              "      <td>125510.82</td>\n",
              "      <td>1</td>\n",
              "      <td>1</td>\n",
              "      <td>1</td>\n",
              "      <td>79084.10</td>\n",
              "      <td>0</td>\n",
              "    </tr>\n",
              "  </tbody>\n",
              "</table>\n",
              "</div>"
            ],
            "text/plain": [
              "   RowNumber  CustomerId   Surname  ...  IsActiveMember EstimatedSalary Exited\n",
              "0          1    15634602  Hargrave  ...               1       101348.88      1\n",
              "1          2    15647311      Hill  ...               1       112542.58      0\n",
              "2          3    15619304      Onio  ...               0       113931.57      1\n",
              "3          4    15701354      Boni  ...               0        93826.63      0\n",
              "4          5    15737888  Mitchell  ...               1        79084.10      0\n",
              "\n",
              "[5 rows x 14 columns]"
            ]
          },
          "metadata": {
            "tags": []
          },
          "execution_count": 9
        }
      ]
    },
    {
      "cell_type": "code",
      "metadata": {
        "id": "zTBOqZHxHocg",
        "outputId": "6ac6bb2d-515e-424a-a365-838053491534",
        "colab": {
          "base_uri": "https://localhost:8080/",
          "height": 374
        }
      },
      "source": [
        "dataset.info()"
      ],
      "execution_count": 10,
      "outputs": [
        {
          "output_type": "stream",
          "text": [
            "<class 'pandas.core.frame.DataFrame'>\n",
            "RangeIndex: 10000 entries, 0 to 9999\n",
            "Data columns (total 14 columns):\n",
            " #   Column           Non-Null Count  Dtype  \n",
            "---  ------           --------------  -----  \n",
            " 0   RowNumber        10000 non-null  int64  \n",
            " 1   CustomerId       10000 non-null  int64  \n",
            " 2   Surname          10000 non-null  object \n",
            " 3   CreditScore      10000 non-null  int64  \n",
            " 4   Geography        10000 non-null  object \n",
            " 5   Gender           10000 non-null  object \n",
            " 6   Age              10000 non-null  int64  \n",
            " 7   Tenure           10000 non-null  int64  \n",
            " 8   Balance          10000 non-null  float64\n",
            " 9   NumOfProducts    10000 non-null  int64  \n",
            " 10  HasCrCard        10000 non-null  int64  \n",
            " 11  IsActiveMember   10000 non-null  int64  \n",
            " 12  EstimatedSalary  10000 non-null  float64\n",
            " 13  Exited           10000 non-null  int64  \n",
            "dtypes: float64(2), int64(9), object(3)\n",
            "memory usage: 1.1+ MB\n"
          ],
          "name": "stdout"
        }
      ]
    },
    {
      "cell_type": "code",
      "metadata": {
        "id": "8UU8VZWzIfVf"
      },
      "source": [
        "X = dataset.iloc[:,3:13]\n",
        "y = dataset.iloc[:,13]"
      ],
      "execution_count": 11,
      "outputs": []
    },
    {
      "cell_type": "code",
      "metadata": {
        "id": "xoqv8Mk2Ixt9"
      },
      "source": [
        "geography = pd.get_dummies(X['Geography'],drop_first=True)\n",
        "gender = pd.get_dummies(X['Gender'], drop_first=True)"
      ],
      "execution_count": 12,
      "outputs": []
    },
    {
      "cell_type": "code",
      "metadata": {
        "id": "HO7Cc1TIJIP1"
      },
      "source": [
        "X = pd.concat([X, geography, gender],axis=1)"
      ],
      "execution_count": 13,
      "outputs": []
    },
    {
      "cell_type": "code",
      "metadata": {
        "id": "cx8zKKr8JgUw"
      },
      "source": [
        "X = X.drop(['Geography','Gender'],axis=1)"
      ],
      "execution_count": 14,
      "outputs": []
    },
    {
      "cell_type": "code",
      "metadata": {
        "id": "Tnh0WnYwJVyj",
        "outputId": "e99f536c-cfd0-472d-cefb-aa7c38c4fef9",
        "colab": {
          "base_uri": "https://localhost:8080/",
          "height": 323
        }
      },
      "source": [
        "X.info()"
      ],
      "execution_count": 15,
      "outputs": [
        {
          "output_type": "stream",
          "text": [
            "<class 'pandas.core.frame.DataFrame'>\n",
            "RangeIndex: 10000 entries, 0 to 9999\n",
            "Data columns (total 11 columns):\n",
            " #   Column           Non-Null Count  Dtype  \n",
            "---  ------           --------------  -----  \n",
            " 0   CreditScore      10000 non-null  int64  \n",
            " 1   Age              10000 non-null  int64  \n",
            " 2   Tenure           10000 non-null  int64  \n",
            " 3   Balance          10000 non-null  float64\n",
            " 4   NumOfProducts    10000 non-null  int64  \n",
            " 5   HasCrCard        10000 non-null  int64  \n",
            " 6   IsActiveMember   10000 non-null  int64  \n",
            " 7   EstimatedSalary  10000 non-null  float64\n",
            " 8   Germany          10000 non-null  uint8  \n",
            " 9   Spain            10000 non-null  uint8  \n",
            " 10  Male             10000 non-null  uint8  \n",
            "dtypes: float64(2), int64(6), uint8(3)\n",
            "memory usage: 654.4 KB\n"
          ],
          "name": "stdout"
        }
      ]
    },
    {
      "cell_type": "code",
      "metadata": {
        "id": "qzbWp-xgJZv0",
        "outputId": "5dd2c357-fc3e-4637-d8fb-ce742e8f6de8",
        "colab": {
          "base_uri": "https://localhost:8080/",
          "height": 204
        }
      },
      "source": [
        "X.head()"
      ],
      "execution_count": 16,
      "outputs": [
        {
          "output_type": "execute_result",
          "data": {
            "text/html": [
              "<div>\n",
              "<style scoped>\n",
              "    .dataframe tbody tr th:only-of-type {\n",
              "        vertical-align: middle;\n",
              "    }\n",
              "\n",
              "    .dataframe tbody tr th {\n",
              "        vertical-align: top;\n",
              "    }\n",
              "\n",
              "    .dataframe thead th {\n",
              "        text-align: right;\n",
              "    }\n",
              "</style>\n",
              "<table border=\"1\" class=\"dataframe\">\n",
              "  <thead>\n",
              "    <tr style=\"text-align: right;\">\n",
              "      <th></th>\n",
              "      <th>CreditScore</th>\n",
              "      <th>Age</th>\n",
              "      <th>Tenure</th>\n",
              "      <th>Balance</th>\n",
              "      <th>NumOfProducts</th>\n",
              "      <th>HasCrCard</th>\n",
              "      <th>IsActiveMember</th>\n",
              "      <th>EstimatedSalary</th>\n",
              "      <th>Germany</th>\n",
              "      <th>Spain</th>\n",
              "      <th>Male</th>\n",
              "    </tr>\n",
              "  </thead>\n",
              "  <tbody>\n",
              "    <tr>\n",
              "      <th>0</th>\n",
              "      <td>619</td>\n",
              "      <td>42</td>\n",
              "      <td>2</td>\n",
              "      <td>0.00</td>\n",
              "      <td>1</td>\n",
              "      <td>1</td>\n",
              "      <td>1</td>\n",
              "      <td>101348.88</td>\n",
              "      <td>0</td>\n",
              "      <td>0</td>\n",
              "      <td>0</td>\n",
              "    </tr>\n",
              "    <tr>\n",
              "      <th>1</th>\n",
              "      <td>608</td>\n",
              "      <td>41</td>\n",
              "      <td>1</td>\n",
              "      <td>83807.86</td>\n",
              "      <td>1</td>\n",
              "      <td>0</td>\n",
              "      <td>1</td>\n",
              "      <td>112542.58</td>\n",
              "      <td>0</td>\n",
              "      <td>1</td>\n",
              "      <td>0</td>\n",
              "    </tr>\n",
              "    <tr>\n",
              "      <th>2</th>\n",
              "      <td>502</td>\n",
              "      <td>42</td>\n",
              "      <td>8</td>\n",
              "      <td>159660.80</td>\n",
              "      <td>3</td>\n",
              "      <td>1</td>\n",
              "      <td>0</td>\n",
              "      <td>113931.57</td>\n",
              "      <td>0</td>\n",
              "      <td>0</td>\n",
              "      <td>0</td>\n",
              "    </tr>\n",
              "    <tr>\n",
              "      <th>3</th>\n",
              "      <td>699</td>\n",
              "      <td>39</td>\n",
              "      <td>1</td>\n",
              "      <td>0.00</td>\n",
              "      <td>2</td>\n",
              "      <td>0</td>\n",
              "      <td>0</td>\n",
              "      <td>93826.63</td>\n",
              "      <td>0</td>\n",
              "      <td>0</td>\n",
              "      <td>0</td>\n",
              "    </tr>\n",
              "    <tr>\n",
              "      <th>4</th>\n",
              "      <td>850</td>\n",
              "      <td>43</td>\n",
              "      <td>2</td>\n",
              "      <td>125510.82</td>\n",
              "      <td>1</td>\n",
              "      <td>1</td>\n",
              "      <td>1</td>\n",
              "      <td>79084.10</td>\n",
              "      <td>0</td>\n",
              "      <td>1</td>\n",
              "      <td>0</td>\n",
              "    </tr>\n",
              "  </tbody>\n",
              "</table>\n",
              "</div>"
            ],
            "text/plain": [
              "   CreditScore  Age  Tenure    Balance  ...  EstimatedSalary  Germany  Spain  Male\n",
              "0          619   42       2       0.00  ...        101348.88        0      0     0\n",
              "1          608   41       1   83807.86  ...        112542.58        0      1     0\n",
              "2          502   42       8  159660.80  ...        113931.57        0      0     0\n",
              "3          699   39       1       0.00  ...         93826.63        0      0     0\n",
              "4          850   43       2  125510.82  ...         79084.10        0      1     0\n",
              "\n",
              "[5 rows x 11 columns]"
            ]
          },
          "metadata": {
            "tags": []
          },
          "execution_count": 16
        }
      ]
    },
    {
      "cell_type": "code",
      "metadata": {
        "id": "ViKbIq6KKMNM"
      },
      "source": [
        "from sklearn.model_selection import train_test_split\n",
        "X_train,X_test,y_train,y_test = train_test_split(X,y,test_size=0.2, random_state=0)"
      ],
      "execution_count": 17,
      "outputs": []
    },
    {
      "cell_type": "code",
      "metadata": {
        "id": "_xZsIpOAKnAS"
      },
      "source": [
        "from sklearn.preprocessing import StandardScaler\n",
        "sc = StandardScaler()\n",
        "X_train = sc.fit_transform(X_train)\n",
        "X_test = sc.transform(X_test)"
      ],
      "execution_count": 18,
      "outputs": []
    },
    {
      "cell_type": "code",
      "metadata": {
        "id": "ZoioFfvaLG3G"
      },
      "source": [
        "import keras\n",
        "from keras.models import Sequential\n",
        "from keras.layers import Dense\n",
        "from keras.layers import LeakyReLU,PReLU,ELU\n",
        "from keras.layers import Dropout "
      ],
      "execution_count": 19,
      "outputs": []
    },
    {
      "cell_type": "code",
      "metadata": {
        "id": "wjREcSw4Lhys"
      },
      "source": [
        "classifier = Sequential()\n",
        "classifier.add(Dense(units = 6, kernel_initializer= 'he_uniform', activation='relu',input_dim= 11))\n",
        "classifier.add(Dropout(0.3))\n",
        "classifier.add(Dense(units = 6, kernel_initializer= 'he_uniform', activation='relu'))\n",
        "classifier.add(Dropout(0.3))\n",
        "classifier.add(Dense(units=1, kernel_initializer='glorot_uniform', activation='sigmoid'))\n"
      ],
      "execution_count": 20,
      "outputs": []
    },
    {
      "cell_type": "code",
      "metadata": {
        "id": "CtF8IluwMfPI",
        "outputId": "2b587042-b08f-4f35-f621-3af3b4639aa7",
        "colab": {
          "base_uri": "https://localhost:8080/",
          "height": 323
        }
      },
      "source": [
        "classifier.summary()"
      ],
      "execution_count": 21,
      "outputs": [
        {
          "output_type": "stream",
          "text": [
            "Model: \"sequential\"\n",
            "_________________________________________________________________\n",
            "Layer (type)                 Output Shape              Param #   \n",
            "=================================================================\n",
            "dense (Dense)                (None, 6)                 72        \n",
            "_________________________________________________________________\n",
            "dropout (Dropout)            (None, 6)                 0         \n",
            "_________________________________________________________________\n",
            "dense_1 (Dense)              (None, 6)                 42        \n",
            "_________________________________________________________________\n",
            "dropout_1 (Dropout)          (None, 6)                 0         \n",
            "_________________________________________________________________\n",
            "dense_2 (Dense)              (None, 1)                 7         \n",
            "=================================================================\n",
            "Total params: 121\n",
            "Trainable params: 121\n",
            "Non-trainable params: 0\n",
            "_________________________________________________________________\n"
          ],
          "name": "stdout"
        }
      ]
    },
    {
      "cell_type": "code",
      "metadata": {
        "id": "Lek-Yn9kMlLp"
      },
      "source": [
        "classifier.compile(optimizer = 'adam', loss='binary_crossentropy', metrics = ['accuracy'])"
      ],
      "execution_count": 22,
      "outputs": []
    },
    {
      "cell_type": "code",
      "metadata": {
        "id": "EM6Bw49XM_3V",
        "outputId": "0d891894-3c90-44a2-dcae-2cb106327de2",
        "colab": {
          "base_uri": "https://localhost:8080/",
          "height": 1000
        }
      },
      "source": [
        " model_history = classifier.fit(x = X_train, y =y_train, validation_split=0.33, batch_size=10, epochs=100)"
      ],
      "execution_count": 23,
      "outputs": [
        {
          "output_type": "stream",
          "text": [
            "Epoch 1/100\n",
            "536/536 [==============================] - 1s 981us/step - loss: 0.5615 - accuracy: 0.7688 - val_loss: 0.4901 - val_accuracy: 0.7955\n",
            "Epoch 2/100\n",
            "536/536 [==============================] - 0s 838us/step - loss: 0.5030 - accuracy: 0.7946 - val_loss: 0.4676 - val_accuracy: 0.7955\n",
            "Epoch 3/100\n",
            "536/536 [==============================] - 0s 807us/step - loss: 0.4856 - accuracy: 0.7962 - val_loss: 0.4604 - val_accuracy: 0.7955\n",
            "Epoch 4/100\n",
            "536/536 [==============================] - 0s 817us/step - loss: 0.4736 - accuracy: 0.7964 - val_loss: 0.4530 - val_accuracy: 0.7955\n",
            "Epoch 5/100\n",
            "536/536 [==============================] - 0s 811us/step - loss: 0.4672 - accuracy: 0.7972 - val_loss: 0.4507 - val_accuracy: 0.7955\n",
            "Epoch 6/100\n",
            "536/536 [==============================] - 0s 820us/step - loss: 0.4636 - accuracy: 0.7972 - val_loss: 0.4459 - val_accuracy: 0.7955\n",
            "Epoch 7/100\n",
            "536/536 [==============================] - 0s 811us/step - loss: 0.4552 - accuracy: 0.8015 - val_loss: 0.4407 - val_accuracy: 0.7959\n",
            "Epoch 8/100\n",
            "536/536 [==============================] - 0s 806us/step - loss: 0.4513 - accuracy: 0.8035 - val_loss: 0.4363 - val_accuracy: 0.8005\n",
            "Epoch 9/100\n",
            "536/536 [==============================] - 0s 798us/step - loss: 0.4539 - accuracy: 0.8054 - val_loss: 0.4366 - val_accuracy: 0.8023\n",
            "Epoch 10/100\n",
            "536/536 [==============================] - 0s 840us/step - loss: 0.4490 - accuracy: 0.8000 - val_loss: 0.4338 - val_accuracy: 0.8020\n",
            "Epoch 11/100\n",
            "536/536 [==============================] - 0s 780us/step - loss: 0.4412 - accuracy: 0.8059 - val_loss: 0.4321 - val_accuracy: 0.8031\n",
            "Epoch 12/100\n",
            "536/536 [==============================] - 0s 811us/step - loss: 0.4413 - accuracy: 0.8074 - val_loss: 0.4305 - val_accuracy: 0.8099\n",
            "Epoch 13/100\n",
            "536/536 [==============================] - 0s 837us/step - loss: 0.4429 - accuracy: 0.8091 - val_loss: 0.4282 - val_accuracy: 0.8035\n",
            "Epoch 14/100\n",
            "536/536 [==============================] - 0s 776us/step - loss: 0.4445 - accuracy: 0.8080 - val_loss: 0.4275 - val_accuracy: 0.8054\n",
            "Epoch 15/100\n",
            "536/536 [==============================] - 0s 801us/step - loss: 0.4409 - accuracy: 0.8099 - val_loss: 0.4271 - val_accuracy: 0.8069\n",
            "Epoch 16/100\n",
            "536/536 [==============================] - 0s 827us/step - loss: 0.4414 - accuracy: 0.8104 - val_loss: 0.4247 - val_accuracy: 0.8061\n",
            "Epoch 17/100\n",
            "536/536 [==============================] - 0s 816us/step - loss: 0.4339 - accuracy: 0.8169 - val_loss: 0.4207 - val_accuracy: 0.8148\n",
            "Epoch 18/100\n",
            "536/536 [==============================] - 0s 817us/step - loss: 0.4271 - accuracy: 0.8214 - val_loss: 0.4128 - val_accuracy: 0.8243\n",
            "Epoch 19/100\n",
            "536/536 [==============================] - 0s 808us/step - loss: 0.4286 - accuracy: 0.8207 - val_loss: 0.4123 - val_accuracy: 0.8258\n",
            "Epoch 20/100\n",
            "536/536 [==============================] - 0s 795us/step - loss: 0.4266 - accuracy: 0.8233 - val_loss: 0.4048 - val_accuracy: 0.8281\n",
            "Epoch 21/100\n",
            "536/536 [==============================] - 0s 800us/step - loss: 0.4235 - accuracy: 0.8240 - val_loss: 0.4012 - val_accuracy: 0.8315\n",
            "Epoch 22/100\n",
            "536/536 [==============================] - 0s 804us/step - loss: 0.4222 - accuracy: 0.8238 - val_loss: 0.3997 - val_accuracy: 0.8307\n",
            "Epoch 23/100\n",
            "536/536 [==============================] - 0s 829us/step - loss: 0.4195 - accuracy: 0.8229 - val_loss: 0.3976 - val_accuracy: 0.8345\n",
            "Epoch 24/100\n",
            "536/536 [==============================] - 0s 808us/step - loss: 0.4149 - accuracy: 0.8238 - val_loss: 0.3929 - val_accuracy: 0.8349\n",
            "Epoch 25/100\n",
            "536/536 [==============================] - 0s 820us/step - loss: 0.4122 - accuracy: 0.8281 - val_loss: 0.3923 - val_accuracy: 0.8376\n",
            "Epoch 26/100\n",
            "536/536 [==============================] - 0s 800us/step - loss: 0.4099 - accuracy: 0.8250 - val_loss: 0.3901 - val_accuracy: 0.8368\n",
            "Epoch 27/100\n",
            "536/536 [==============================] - 0s 802us/step - loss: 0.4098 - accuracy: 0.8302 - val_loss: 0.3857 - val_accuracy: 0.8436\n",
            "Epoch 28/100\n",
            "536/536 [==============================] - 0s 788us/step - loss: 0.4118 - accuracy: 0.8233 - val_loss: 0.3870 - val_accuracy: 0.8357\n",
            "Epoch 29/100\n",
            "536/536 [==============================] - 0s 819us/step - loss: 0.4100 - accuracy: 0.8315 - val_loss: 0.3885 - val_accuracy: 0.8338\n",
            "Epoch 30/100\n",
            "536/536 [==============================] - 0s 836us/step - loss: 0.4061 - accuracy: 0.8266 - val_loss: 0.3867 - val_accuracy: 0.8334\n",
            "Epoch 31/100\n",
            "536/536 [==============================] - 0s 819us/step - loss: 0.4066 - accuracy: 0.8285 - val_loss: 0.3850 - val_accuracy: 0.8451\n",
            "Epoch 32/100\n",
            "536/536 [==============================] - 0s 812us/step - loss: 0.4087 - accuracy: 0.8244 - val_loss: 0.3839 - val_accuracy: 0.8417\n",
            "Epoch 33/100\n",
            "536/536 [==============================] - 0s 805us/step - loss: 0.4151 - accuracy: 0.8259 - val_loss: 0.3871 - val_accuracy: 0.8466\n",
            "Epoch 34/100\n",
            "536/536 [==============================] - 0s 803us/step - loss: 0.4111 - accuracy: 0.8246 - val_loss: 0.3863 - val_accuracy: 0.8421\n",
            "Epoch 35/100\n",
            "536/536 [==============================] - 0s 807us/step - loss: 0.4083 - accuracy: 0.8294 - val_loss: 0.3831 - val_accuracy: 0.8436\n",
            "Epoch 36/100\n",
            "536/536 [==============================] - 0s 869us/step - loss: 0.4122 - accuracy: 0.8276 - val_loss: 0.3860 - val_accuracy: 0.8383\n",
            "Epoch 37/100\n",
            "536/536 [==============================] - 0s 819us/step - loss: 0.4123 - accuracy: 0.8257 - val_loss: 0.3855 - val_accuracy: 0.8364\n",
            "Epoch 38/100\n",
            "536/536 [==============================] - 0s 810us/step - loss: 0.4090 - accuracy: 0.8268 - val_loss: 0.3834 - val_accuracy: 0.8391\n",
            "Epoch 39/100\n",
            "536/536 [==============================] - 0s 822us/step - loss: 0.4151 - accuracy: 0.8252 - val_loss: 0.3869 - val_accuracy: 0.8410\n",
            "Epoch 40/100\n",
            "536/536 [==============================] - 0s 805us/step - loss: 0.4106 - accuracy: 0.8278 - val_loss: 0.3852 - val_accuracy: 0.8463\n",
            "Epoch 41/100\n",
            "536/536 [==============================] - 0s 833us/step - loss: 0.4100 - accuracy: 0.8268 - val_loss: 0.3848 - val_accuracy: 0.8406\n",
            "Epoch 42/100\n",
            "536/536 [==============================] - 0s 819us/step - loss: 0.4075 - accuracy: 0.8272 - val_loss: 0.3805 - val_accuracy: 0.8466\n",
            "Epoch 43/100\n",
            "536/536 [==============================] - 0s 820us/step - loss: 0.4069 - accuracy: 0.8270 - val_loss: 0.3824 - val_accuracy: 0.8406\n",
            "Epoch 44/100\n",
            "536/536 [==============================] - 0s 803us/step - loss: 0.4097 - accuracy: 0.8252 - val_loss: 0.3833 - val_accuracy: 0.8368\n",
            "Epoch 45/100\n",
            "536/536 [==============================] - 0s 814us/step - loss: 0.4121 - accuracy: 0.8287 - val_loss: 0.3849 - val_accuracy: 0.8429\n",
            "Epoch 46/100\n",
            "536/536 [==============================] - 0s 804us/step - loss: 0.4062 - accuracy: 0.8278 - val_loss: 0.3835 - val_accuracy: 0.8429\n",
            "Epoch 47/100\n",
            "536/536 [==============================] - 0s 825us/step - loss: 0.4056 - accuracy: 0.8283 - val_loss: 0.3834 - val_accuracy: 0.8448\n",
            "Epoch 48/100\n",
            "536/536 [==============================] - 0s 823us/step - loss: 0.4098 - accuracy: 0.8278 - val_loss: 0.3828 - val_accuracy: 0.8398\n",
            "Epoch 49/100\n",
            "536/536 [==============================] - 0s 831us/step - loss: 0.4067 - accuracy: 0.8268 - val_loss: 0.3840 - val_accuracy: 0.8379\n",
            "Epoch 50/100\n",
            "536/536 [==============================] - 0s 820us/step - loss: 0.4046 - accuracy: 0.8276 - val_loss: 0.3850 - val_accuracy: 0.8466\n",
            "Epoch 51/100\n",
            "536/536 [==============================] - 0s 824us/step - loss: 0.4083 - accuracy: 0.8268 - val_loss: 0.3856 - val_accuracy: 0.8429\n",
            "Epoch 52/100\n",
            "536/536 [==============================] - 0s 824us/step - loss: 0.4101 - accuracy: 0.8253 - val_loss: 0.3879 - val_accuracy: 0.8357\n",
            "Epoch 53/100\n",
            "536/536 [==============================] - 0s 830us/step - loss: 0.4139 - accuracy: 0.8261 - val_loss: 0.3868 - val_accuracy: 0.8376\n",
            "Epoch 54/100\n",
            "536/536 [==============================] - 0s 828us/step - loss: 0.4092 - accuracy: 0.8298 - val_loss: 0.3840 - val_accuracy: 0.8432\n",
            "Epoch 55/100\n",
            "536/536 [==============================] - 0s 807us/step - loss: 0.4048 - accuracy: 0.8296 - val_loss: 0.3849 - val_accuracy: 0.8451\n",
            "Epoch 56/100\n",
            "536/536 [==============================] - 0s 829us/step - loss: 0.4060 - accuracy: 0.8261 - val_loss: 0.3859 - val_accuracy: 0.8379\n",
            "Epoch 57/100\n",
            "536/536 [==============================] - 0s 813us/step - loss: 0.4065 - accuracy: 0.8298 - val_loss: 0.3823 - val_accuracy: 0.8421\n",
            "Epoch 58/100\n",
            "536/536 [==============================] - 0s 799us/step - loss: 0.4091 - accuracy: 0.8263 - val_loss: 0.3851 - val_accuracy: 0.8402\n",
            "Epoch 59/100\n",
            "536/536 [==============================] - 0s 849us/step - loss: 0.4126 - accuracy: 0.8289 - val_loss: 0.3853 - val_accuracy: 0.8410\n",
            "Epoch 60/100\n",
            "536/536 [==============================] - 0s 839us/step - loss: 0.4029 - accuracy: 0.8298 - val_loss: 0.3815 - val_accuracy: 0.8402\n",
            "Epoch 61/100\n",
            "536/536 [==============================] - 0s 814us/step - loss: 0.4069 - accuracy: 0.8265 - val_loss: 0.3833 - val_accuracy: 0.8440\n",
            "Epoch 62/100\n",
            "536/536 [==============================] - 0s 823us/step - loss: 0.4032 - accuracy: 0.8293 - val_loss: 0.3825 - val_accuracy: 0.8368\n",
            "Epoch 63/100\n",
            "536/536 [==============================] - 0s 814us/step - loss: 0.4042 - accuracy: 0.8285 - val_loss: 0.3775 - val_accuracy: 0.8432\n",
            "Epoch 64/100\n",
            "536/536 [==============================] - 0s 843us/step - loss: 0.4135 - accuracy: 0.8244 - val_loss: 0.3878 - val_accuracy: 0.8402\n",
            "Epoch 65/100\n",
            "536/536 [==============================] - 0s 848us/step - loss: 0.4036 - accuracy: 0.8259 - val_loss: 0.3793 - val_accuracy: 0.8417\n",
            "Epoch 66/100\n",
            "536/536 [==============================] - 0s 814us/step - loss: 0.4056 - accuracy: 0.8285 - val_loss: 0.3796 - val_accuracy: 0.8421\n",
            "Epoch 67/100\n",
            "536/536 [==============================] - 0s 809us/step - loss: 0.4132 - accuracy: 0.8276 - val_loss: 0.3860 - val_accuracy: 0.8413\n",
            "Epoch 68/100\n",
            "536/536 [==============================] - 0s 819us/step - loss: 0.4040 - accuracy: 0.8287 - val_loss: 0.3822 - val_accuracy: 0.8432\n",
            "Epoch 69/100\n",
            "536/536 [==============================] - 0s 811us/step - loss: 0.4096 - accuracy: 0.8248 - val_loss: 0.3841 - val_accuracy: 0.8391\n",
            "Epoch 70/100\n",
            "536/536 [==============================] - 0s 836us/step - loss: 0.4099 - accuracy: 0.8248 - val_loss: 0.3848 - val_accuracy: 0.8372\n",
            "Epoch 71/100\n",
            "536/536 [==============================] - 0s 819us/step - loss: 0.4057 - accuracy: 0.8261 - val_loss: 0.3841 - val_accuracy: 0.8398\n",
            "Epoch 72/100\n",
            "536/536 [==============================] - 0s 811us/step - loss: 0.3968 - accuracy: 0.8324 - val_loss: 0.3804 - val_accuracy: 0.8387\n",
            "Epoch 73/100\n",
            "536/536 [==============================] - 0s 836us/step - loss: 0.4048 - accuracy: 0.8278 - val_loss: 0.3803 - val_accuracy: 0.8406\n",
            "Epoch 74/100\n",
            "536/536 [==============================] - 0s 831us/step - loss: 0.4047 - accuracy: 0.8263 - val_loss: 0.3804 - val_accuracy: 0.8376\n",
            "Epoch 75/100\n",
            "536/536 [==============================] - 0s 824us/step - loss: 0.4020 - accuracy: 0.8291 - val_loss: 0.3811 - val_accuracy: 0.8429\n",
            "Epoch 76/100\n",
            "536/536 [==============================] - 0s 826us/step - loss: 0.4003 - accuracy: 0.8294 - val_loss: 0.3780 - val_accuracy: 0.8459\n",
            "Epoch 77/100\n",
            "536/536 [==============================] - 0s 844us/step - loss: 0.4053 - accuracy: 0.8255 - val_loss: 0.3802 - val_accuracy: 0.8376\n",
            "Epoch 78/100\n",
            "536/536 [==============================] - 0s 817us/step - loss: 0.4001 - accuracy: 0.8313 - val_loss: 0.3802 - val_accuracy: 0.8372\n",
            "Epoch 79/100\n",
            "536/536 [==============================] - 0s 840us/step - loss: 0.4077 - accuracy: 0.8250 - val_loss: 0.3801 - val_accuracy: 0.8395\n",
            "Epoch 80/100\n",
            "536/536 [==============================] - 0s 809us/step - loss: 0.4033 - accuracy: 0.8281 - val_loss: 0.3798 - val_accuracy: 0.8379\n",
            "Epoch 81/100\n",
            "536/536 [==============================] - 0s 839us/step - loss: 0.4087 - accuracy: 0.8280 - val_loss: 0.3823 - val_accuracy: 0.8368\n",
            "Epoch 82/100\n",
            "536/536 [==============================] - 0s 801us/step - loss: 0.4043 - accuracy: 0.8281 - val_loss: 0.3794 - val_accuracy: 0.8451\n",
            "Epoch 83/100\n",
            "536/536 [==============================] - 0s 837us/step - loss: 0.4117 - accuracy: 0.8263 - val_loss: 0.3788 - val_accuracy: 0.8459\n",
            "Epoch 84/100\n",
            "536/536 [==============================] - 0s 846us/step - loss: 0.4096 - accuracy: 0.8250 - val_loss: 0.3831 - val_accuracy: 0.8421\n",
            "Epoch 85/100\n",
            "536/536 [==============================] - 0s 821us/step - loss: 0.4065 - accuracy: 0.8302 - val_loss: 0.3791 - val_accuracy: 0.8421\n",
            "Epoch 86/100\n",
            "536/536 [==============================] - 0s 833us/step - loss: 0.4089 - accuracy: 0.8233 - val_loss: 0.3807 - val_accuracy: 0.8368\n",
            "Epoch 87/100\n",
            "536/536 [==============================] - 0s 833us/step - loss: 0.3958 - accuracy: 0.8300 - val_loss: 0.3770 - val_accuracy: 0.8474\n",
            "Epoch 88/100\n",
            "536/536 [==============================] - 0s 855us/step - loss: 0.4091 - accuracy: 0.8270 - val_loss: 0.3821 - val_accuracy: 0.8379\n",
            "Epoch 89/100\n",
            "536/536 [==============================] - 0s 820us/step - loss: 0.4058 - accuracy: 0.8261 - val_loss: 0.3781 - val_accuracy: 0.8455\n",
            "Epoch 90/100\n",
            "536/536 [==============================] - 0s 837us/step - loss: 0.4022 - accuracy: 0.8274 - val_loss: 0.3811 - val_accuracy: 0.8417\n",
            "Epoch 91/100\n",
            "536/536 [==============================] - 0s 805us/step - loss: 0.4071 - accuracy: 0.8270 - val_loss: 0.3803 - val_accuracy: 0.8391\n",
            "Epoch 92/100\n",
            "536/536 [==============================] - 0s 851us/step - loss: 0.3953 - accuracy: 0.8358 - val_loss: 0.3777 - val_accuracy: 0.8421\n",
            "Epoch 93/100\n",
            "536/536 [==============================] - 0s 816us/step - loss: 0.4034 - accuracy: 0.8315 - val_loss: 0.3798 - val_accuracy: 0.8417\n",
            "Epoch 94/100\n",
            "536/536 [==============================] - 0s 820us/step - loss: 0.4097 - accuracy: 0.8285 - val_loss: 0.3823 - val_accuracy: 0.8391\n",
            "Epoch 95/100\n",
            "536/536 [==============================] - 0s 818us/step - loss: 0.4062 - accuracy: 0.8276 - val_loss: 0.3833 - val_accuracy: 0.8425\n",
            "Epoch 96/100\n",
            "536/536 [==============================] - 0s 829us/step - loss: 0.4064 - accuracy: 0.8276 - val_loss: 0.3826 - val_accuracy: 0.8395\n",
            "Epoch 97/100\n",
            "536/536 [==============================] - 0s 841us/step - loss: 0.4035 - accuracy: 0.8294 - val_loss: 0.3789 - val_accuracy: 0.8444\n",
            "Epoch 98/100\n",
            "536/536 [==============================] - 0s 839us/step - loss: 0.4100 - accuracy: 0.8205 - val_loss: 0.3827 - val_accuracy: 0.8429\n",
            "Epoch 99/100\n",
            "536/536 [==============================] - 0s 801us/step - loss: 0.4067 - accuracy: 0.8280 - val_loss: 0.3811 - val_accuracy: 0.8395\n",
            "Epoch 100/100\n",
            "536/536 [==============================] - 0s 823us/step - loss: 0.4071 - accuracy: 0.8291 - val_loss: 0.3783 - val_accuracy: 0.8383\n"
          ],
          "name": "stdout"
        }
      ]
    },
    {
      "cell_type": "code",
      "metadata": {
        "id": "_ygO3AwEQy4y"
      },
      "source": [
        "y_pred = classifier.predict(X_test)\n",
        "y_pred= (y_pred>0.5)"
      ],
      "execution_count": 24,
      "outputs": []
    },
    {
      "cell_type": "code",
      "metadata": {
        "id": "_I6bP3GuQ6Jb"
      },
      "source": [
        "from sklearn.metrics import confusion_matrix\n",
        "cm = confusion_matrix(y_test, y_pred)"
      ],
      "execution_count": 25,
      "outputs": []
    },
    {
      "cell_type": "code",
      "metadata": {
        "id": "O7dV-BUHRDNH",
        "outputId": "7a21fbd0-c57a-42d8-cb18-6aad8d4f0c73",
        "colab": {
          "base_uri": "https://localhost:8080/",
          "height": 51
        }
      },
      "source": [
        "cm"
      ],
      "execution_count": 26,
      "outputs": [
        {
          "output_type": "execute_result",
          "data": {
            "text/plain": [
              "array([[1583,   12],\n",
              "       [ 288,  117]])"
            ]
          },
          "metadata": {
            "tags": []
          },
          "execution_count": 26
        }
      ]
    },
    {
      "cell_type": "code",
      "metadata": {
        "id": "6QmrqY3eRF47",
        "outputId": "160bc4cd-8d66-4f37-dc3d-00b7a2748e75",
        "colab": {
          "base_uri": "https://localhost:8080/",
          "height": 34
        }
      },
      "source": [
        "from sklearn.metrics import accuracy_score\n",
        "score = accuracy_score(y_pred,y_test)\n",
        "score "
      ],
      "execution_count": 27,
      "outputs": [
        {
          "output_type": "execute_result",
          "data": {
            "text/plain": [
              "0.85"
            ]
          },
          "metadata": {
            "tags": []
          },
          "execution_count": 27
        }
      ]
    },
    {
      "cell_type": "markdown",
      "metadata": {
        "id": "4C-14rdumPFQ"
      },
      "source": [
        "# Hyper Parameter Tuning"
      ]
    },
    {
      "cell_type": "code",
      "metadata": {
        "id": "_WEjNX9FmVRA"
      },
      "source": [
        "from keras.wrappers.scikit_learn import KerasClassifier\n",
        "from sklearn.model_selection import GridSearchCV\n",
        "\n",
        "from keras.models import Sequential\n",
        "from keras.layers import Dense, Activation, Embedding, Flatten, LeakyReLU, BatchNormalization, Dropout\n",
        "from keras.activations import relu, sigmoid\n"
      ],
      "execution_count": 45,
      "outputs": []
    },
    {
      "cell_type": "code",
      "metadata": {
        "id": "xiy6x7zNo-nW"
      },
      "source": [
        "def create_model(layers, activation):\n",
        "    model = Sequential()\n",
        "    for i, nodes in enumerate(layers):\n",
        "        if i==0:\n",
        "            model.add(Dense(nodes,input_dim=X_train.shape[1]))\n",
        "            model.add(Activation(activation))\n",
        "            model.add(Dropout(0.3))\n",
        "        else:\n",
        "            model.add(Dense(nodes))\n",
        "            model.add(Activation(activation))\n",
        "            model.add(Dropout(0.3))\n",
        "            \n",
        "    model.add(Dense(units = 1, kernel_initializer= 'glorot_uniform', activation = 'sigmoid')) # Note: no activation beyond this point\n",
        "    \n",
        "    model.compile(optimizer='adam', loss='binary_crossentropy',metrics=['accuracy'])\n",
        "    return model"
      ],
      "execution_count": 46,
      "outputs": []
    },
    {
      "cell_type": "code",
      "metadata": {
        "id": "bZaXcrVkqY5z"
      },
      "source": [
        "model = KerasClassifier(build_fn=create_model, verbose=0)"
      ],
      "execution_count": 51,
      "outputs": []
    },
    {
      "cell_type": "code",
      "metadata": {
        "id": "QH5Bjs7lrWm4"
      },
      "source": [
        "layers = [(20,), (40, 20), (45, 30, 15)]\n",
        "activations = ['sigmoid', 'relu']\n",
        "param_grid = dict(layers=layers, activation=activations, batch_size = [128, 256], epochs=[30])\n",
        "grid = GridSearchCV(estimator=model, param_grid=param_grid,cv=5)"
      ],
      "execution_count": 52,
      "outputs": []
    },
    {
      "cell_type": "code",
      "metadata": {
        "id": "ir43gg88rYCE"
      },
      "source": [
        "grid_result = grid.fit(X_train, y_train)\n"
      ],
      "execution_count": 54,
      "outputs": []
    },
    {
      "cell_type": "code",
      "metadata": {
        "id": "oLuxHQYYrh5m",
        "outputId": "5a9913e3-ed16-4450-efa7-5bdb1e22968c",
        "colab": {
          "base_uri": "https://localhost:8080/",
          "height": 34
        }
      },
      "source": [
        "print(grid_result.best_score_, grid_result.best_params_)"
      ],
      "execution_count": 55,
      "outputs": [
        {
          "output_type": "stream",
          "text": [
            "0.8573749899864197 {'activation': 'relu', 'batch_size': 128, 'epochs': 30, 'layers': (45, 30, 15)}\n"
          ],
          "name": "stdout"
        }
      ]
    },
    {
      "cell_type": "code",
      "metadata": {
        "id": "2jR5T8S2rwiZ"
      },
      "source": [
        "pred_y = grid.predict(X_test)\n",
        "y_pred = (pred_y>0.5)"
      ],
      "execution_count": 63,
      "outputs": []
    },
    {
      "cell_type": "code",
      "metadata": {
        "id": "hFdmRNPysSpV"
      },
      "source": [
        "cm = confusion_matrix(y_test, y_pred)\n",
        "score = accuracy_score(y_pred,y_test)"
      ],
      "execution_count": 64,
      "outputs": []
    },
    {
      "cell_type": "code",
      "metadata": {
        "id": "HaqIhwGAypW8",
        "outputId": "7343b1d0-a68a-41bd-ffc8-99f503d4650e",
        "colab": {
          "base_uri": "https://localhost:8080/",
          "height": 51
        }
      },
      "source": [
        "cm"
      ],
      "execution_count": 65,
      "outputs": [
        {
          "output_type": "execute_result",
          "data": {
            "text/plain": [
              "array([[1528,   67],\n",
              "       [ 209,  196]])"
            ]
          },
          "metadata": {
            "tags": []
          },
          "execution_count": 65
        }
      ]
    },
    {
      "cell_type": "code",
      "metadata": {
        "id": "efZVdq4aytuu",
        "outputId": "ab538717-51ca-4778-b03e-288b4d2921a2",
        "colab": {
          "base_uri": "https://localhost:8080/",
          "height": 34
        }
      },
      "source": [
        "score"
      ],
      "execution_count": 66,
      "outputs": [
        {
          "output_type": "execute_result",
          "data": {
            "text/plain": [
              "0.862"
            ]
          },
          "metadata": {
            "tags": []
          },
          "execution_count": 66
        }
      ]
    }
  ]
}